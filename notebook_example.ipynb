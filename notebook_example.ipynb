{
 "cells": [
  {
   "cell_type": "code",
   "execution_count": null,
   "id": "612281bb-8461-4271-945f-c2beb6db653e",
   "metadata": {},
   "outputs": [],
   "source": [
    "!pip install langchain replicate numpy pandas"
   ]
  },
  {
   "cell_type": "code",
   "execution_count": null,
   "id": "f9beb912-41fc-4fc7-9fa3-c0685aec15c8",
   "metadata": {},
   "outputs": [],
   "source": [
    "from langchain.llms import Replicate\n",
    "from langchain.chains import LLMChain\n",
    "from langchain.prompts import PromptTemplate\n",
    "\n",
    "prompt = PromptTemplate(input_variables=['restaurant_type'],\n",
    "                        template='''\n",
    "Provide 20 options for names of the following restaurant type: {restaurant_type}\n",
    "\n",
    "Ensure that there are exactly 20. No more and no less.\n",
    "''')\n",
    "llm = Replicate(\n",
    "    model=\"meta/llama-2-70b-chat:02e509c789964a7ea8736978a43525956ef40397be9033abf9fd2badfe68c9e3\",\n",
    "    model_kwargs={\"temperature\": 0.5, \"max_new_tokens\": 4000},\n",
    ")\n",
    "chain = LLMChain(llm=llm, prompt=prompt, verbose=True)\n",
    "answer = chain.run({'restaurant_type': 'Italian'})"
   ]
  },
  {
   "cell_type": "code",
   "execution_count": null,
   "id": "62a1bb3e-e12b-4ffb-8168-8a7204b7a48b",
   "metadata": {},
   "outputs": [],
   "source": [
    "print(answer)"
   ]
  },
  {
   "cell_type": "code",
   "execution_count": null,
   "id": "51a06b0e-c310-4578-b5a8-e2c40c7b9e80",
   "metadata": {},
   "outputs": [],
   "source": []
  }
 ],
 "metadata": {
  "kernelspec": {
   "display_name": "Python 3 (ipykernel)",
   "language": "python",
   "name": "python3"
  },
  "language_info": {
   "codemirror_mode": {
    "name": "ipython",
    "version": 3
   },
   "file_extension": ".py",
   "mimetype": "text/x-python",
   "name": "python",
   "nbconvert_exporter": "python",
   "pygments_lexer": "ipython3",
   "version": "3.11.6"
  }
 },
 "nbformat": 4,
 "nbformat_minor": 5
}
